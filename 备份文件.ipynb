{
 "cells": [
  {
   "cell_type": "code",
   "execution_count": 9,
   "metadata": {},
   "outputs": [],
   "source": [
    "## 引入包\n",
    "import time\n",
    "import zipfile\n",
    "from time import sleep\n",
    "import os,shutil\n",
    "import psutil\n",
    "import re\n",
    "import email\n",
    "import smtplib"
   ]
  },
  {
   "cell_type": "code",
   "execution_count": 2,
   "metadata": {},
   "outputs": [],
   "source": [
    "## 用于拷贝文件\n",
    "#之后的文件命名为copy+日期，位于I盘下,并返回其文件名\n",
    "def copyfile(filename_):\n",
    "    now = time.strftime('%Y-%m-%d',time.localtime(time.time()))\n",
    "    root = 'I:/'\n",
    "    filename = 'copy'+now\n",
    "    # print(os.path.join(root,filename))\n",
    "    path =os.path.join(root,filename)\n",
    "    shutil.copytree(filename_,path)\n",
    "    return path"
   ]
  },
  {
   "cell_type": "code",
   "execution_count": 3,
   "metadata": {},
   "outputs": [],
   "source": [
    "def zipfile1(azip,path):\n",
    "    for current_path, subfolders, filesname in os.walk(path):\n",
    "#         print(current_path, subfolders, filesname)\n",
    "        #  filesname是一个列表，我们需要里面的每个文件名和当前路径组合\n",
    "        for file in filesname:\n",
    "            # 将当前路径与当前路径下的文件名组合，就是当前文件的绝对路径\n",
    "            azip.write(os.path.join(current_path, file))"
   ]
  },
  {
   "cell_type": "code",
   "execution_count": 4,
   "metadata": {},
   "outputs": [],
   "source": [
    "def zipfile_main(path):\n",
    "#     zipfile.ZipFile(pathzip,'w')\n",
    "    pathzip = path+'.zip'\n",
    "    azip = zipfile.ZipFile(pathzip,'w')\n",
    "    azip.write(path,compress_type=zipfile.ZIP_LZMA)\n",
    "    zipfile1(azip,path)\n",
    "    azip.close()"
   ]
  },
  {
   "cell_type": "markdown",
   "metadata": {},
   "source": [
    "## 用于copy U盘内的东西"
   ]
  },
  {
   "cell_type": "code",
   "execution_count": null,
   "metadata": {},
   "outputs": [],
   "source": [
    "usb_path='/'\n",
    "content = psutil.disk_partitions()\n",
    "print(content)\n",
    "while True:\n",
    "    new_content = psutil.disk_partitions()\n",
    "    if new_content !=content:\n",
    "        change = 1\n",
    "        break;\n",
    "    sleep(3)\n",
    "\n",
    "x = [item for item in new_content if item not in content]\n",
    "pattern = re.compile('device=\\'(.*?):',re.S)\n",
    "if change ==1:\n",
    "    pan = re.search(pattern,str(x[0])).group(1)\n",
    "#     print(pan)\n",
    "    pan = pan+':'\n",
    "    path=copyfile(filename_=pan)"
   ]
  },
  {
   "cell_type": "markdown",
   "metadata": {},
   "source": [
    "### 用于压缩文件"
   ]
  },
  {
   "cell_type": "code",
   "execution_count": 9,
   "metadata": {},
   "outputs": [],
   "source": [
    "zipfile_main('I:/copy2018-08-31')"
   ]
  },
  {
   "cell_type": "code",
   "execution_count": 7,
   "metadata": {},
   "outputs": [],
   "source": [
    "beifenpan = 'I:/'\n",
    "path = copyfile(beifenpan)\n",
    "zipfile_main(path)\n",
    "shutil.rmtree(path)    #递归删除文件夹"
   ]
  },
  {
   "cell_type": "code",
   "execution_count": 8,
   "metadata": {},
   "outputs": [],
   "source": []
  },
  {
   "cell_type": "code",
   "execution_count": null,
   "metadata": {},
   "outputs": [],
   "source": [
    "username = 'zhenweilin163@163.com'\n",
    "password = '980106lin'\n",
    "sender = username\n",
    "receiver = '767228083@qq.com'\n",
    "smtp = smtplib.SMTP() \n",
    "flag = True\n",
    "while flag:\n",
    "    try:\n",
    "        smtp.connect('smtp.163.com,25') \n",
    "    except:\n",
    "        print('again')\n",
    "        time.sleep(2)\n",
    "        continue\n",
    "    flag = False\n",
    "smtp.login(username, password) \n",
    "smtp.sendmail(sender, receiver, msg.as_string()) \n",
    "smtp.quit()"
   ]
  },
  {
   "cell_type": "code",
   "execution_count": null,
   "metadata": {},
   "outputs": [],
   "source": []
  }
 ],
 "metadata": {
  "kernelspec": {
   "display_name": "Python 3",
   "language": "python",
   "name": "python3"
  },
  "language_info": {
   "codemirror_mode": {
    "name": "ipython",
    "version": 3
   },
   "file_extension": ".py",
   "mimetype": "text/x-python",
   "name": "python",
   "nbconvert_exporter": "python",
   "pygments_lexer": "ipython3",
   "version": "3.6.5"
  }
 },
 "nbformat": 4,
 "nbformat_minor": 2
}
