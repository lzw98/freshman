{
 "cells": [
  {
   "cell_type": "markdown",
   "metadata": {},
   "source": [
    "### 关于如何设置进度条"
   ]
  },
  {
   "cell_type": "code",
   "execution_count": 1,
   "metadata": {},
   "outputs": [
    {
     "name": "stdout",
     "output_type": "stream",
     "text": [
      "[****************************************************************************************************]100%"
     ]
    }
   ],
   "source": [
    "import sys,time\n",
    "def progress_bar(num,total):\n",
    "    rate = float(num)/total\n",
    "    ratenum = int(100*rate)\n",
    "    r = '\\r[{}{}]{}%'.format('*'*ratenum,' '*(100-ratenum),ratenum)\n",
    "    sys.stdout.write(r)\n",
    "    sys.stdout.flush()\n",
    "    \n",
    "    \n",
    "i,n = 0,100\n",
    "for i in range(n):\n",
    "    time.sleep(0.1)\n",
    "    progress_bar(i+1,n)"
   ]
  },
  {
   "cell_type": "code",
   "execution_count": null,
   "metadata": {},
   "outputs": [],
   "source": []
  }
 ],
 "metadata": {
  "kernelspec": {
   "display_name": "Python 3",
   "language": "python",
   "name": "python3"
  },
  "language_info": {
   "codemirror_mode": {
    "name": "ipython",
    "version": 3
   },
   "file_extension": ".py",
   "mimetype": "text/x-python",
   "name": "python",
   "nbconvert_exporter": "python",
   "pygments_lexer": "ipython3",
   "version": "3.6.5"
  }
 },
 "nbformat": 4,
 "nbformat_minor": 2
}
