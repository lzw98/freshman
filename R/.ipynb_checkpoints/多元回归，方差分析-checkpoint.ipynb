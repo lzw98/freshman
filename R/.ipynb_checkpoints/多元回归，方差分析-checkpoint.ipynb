{
 "cells": [
  {
   "cell_type": "code",
   "execution_count": 1,
   "metadata": {},
   "outputs": [
    {
     "data": {
      "text/plain": [
       "\n",
       "Call:\n",
       "lm(formula = y ~ x)\n",
       "\n",
       "Residuals:\n",
       "     Min       1Q   Median       3Q      Max \n",
       "-128.591  -70.978   -3.727   49.263  167.228 \n",
       "\n",
       "Coefficients:\n",
       "            Estimate Std. Error t value Pr(>|t|)    \n",
       "(Intercept)   140.95     125.11   1.127    0.293    \n",
       "x             364.18      19.26  18.908 6.33e-08 ***\n",
       "---\n",
       "Signif. codes:  0 '***' 0.001 '**' 0.01 '*' 0.05 '.' 0.1 ' ' 1\n",
       "\n",
       "Residual standard error: 96.42 on 8 degrees of freedom\n",
       "Multiple R-squared:  0.9781,\tAdjusted R-squared:  0.9754 \n",
       "F-statistic: 357.5 on 1 and 8 DF,  p-value: 6.33e-08\n"
      ]
     },
     "metadata": {},
     "output_type": "display_data"
    },
    {
     "name": "stderr",
     "output_type": "stream",
     "text": [
      "Warning message:\n",
      "\"'newdata' had 1 row but variables found have 10 rows\""
     ]
    },
    {
     "data": {
      "text/plain": [
       "\n",
       "Call:\n",
       "lm(formula = Y ~ X1 + X2 + X3, data = import)\n",
       "\n",
       "Residuals:\n",
       "    Min      1Q  Median      3Q     Max \n",
       "-28.349 -11.383  -2.659  12.095  48.807 \n",
       "\n",
       "Coefficients:\n",
       "            Estimate Std. Error t value Pr(>|t|)   \n",
       "(Intercept) 43.65007   18.05442   2.418  0.02984 * \n",
       "X1           1.78534    0.53977   3.308  0.00518 **\n",
       "X2          -0.08329    0.42037  -0.198  0.84579   \n",
       "X3           0.16102    0.11158   1.443  0.17098   \n",
       "---\n",
       "Signif. codes:  0 '***' 0.001 '**' 0.01 '*' 0.05 '.' 0.1 ' ' 1\n",
       "\n",
       "Residual standard error: 19.97 on 14 degrees of freedom\n",
       "Multiple R-squared:  0.5493,\tAdjusted R-squared:  0.4527 \n",
       "F-statistic: 5.688 on 3 and 14 DF,  p-value: 0.009227\n"
      ]
     },
     "metadata": {},
     "output_type": "display_data"
    },
    {
     "name": "stdout",
     "output_type": "stream",
     "text": [
      "Start:  AIC=111.27\n",
      "Y ~ X1 + X2 + X3\n",
      "\n",
      "       Df Sum of Sq    RSS    AIC\n",
      "- X2    1      15.7 5599.4 109.32\n",
      "<none>              5583.7 111.27\n",
      "- X3    1     830.6 6414.4 111.77\n",
      "- X1    1    4363.4 9947.2 119.66\n",
      "\n",
      "Step:  AIC=109.32\n",
      "Y ~ X1 + X3\n",
      "\n",
      "       Df Sum of Sq     RSS    AIC\n",
      "<none>               5599.4 109.32\n",
      "- X3    1     833.2  6432.6 109.82\n",
      "- X1    1    5169.5 10768.9 119.09\n"
     ]
    },
    {
     "data": {
      "text/html": [
       "<table>\n",
       "<thead><tr><th></th><th scope=col>Df</th><th scope=col>Sum of Sq</th><th scope=col>RSS</th><th scope=col>AIC</th></tr></thead>\n",
       "<tbody>\n",
       "\t<tr><th scope=row>&lt;none&gt;</th><td>NA       </td><td>       NA</td><td> 5599.398</td><td>109.3208 </td></tr>\n",
       "\t<tr><th scope=row>X1</th><td> 1       </td><td>5169.4543</td><td>10768.852</td><td>119.0927 </td></tr>\n",
       "\t<tr><th scope=row>X3</th><td> 1       </td><td> 833.1911</td><td> 6432.589</td><td>109.8177 </td></tr>\n",
       "</tbody>\n",
       "</table>\n"
      ],
      "text/latex": [
       "\\begin{tabular}{r|llll}\n",
       "  & Df & Sum of Sq & RSS & AIC\\\\\n",
       "\\hline\n",
       "\t<none> & NA        &        NA &  5599.398 & 109.3208 \\\\\n",
       "\tX1 &  1        & 5169.4543 & 10768.852 & 119.0927 \\\\\n",
       "\tX3 &  1        &  833.1911 &  6432.589 & 109.8177 \\\\\n",
       "\\end{tabular}\n"
      ],
      "text/markdown": [
       "\n",
       "| <!--/--> | Df | Sum of Sq | RSS | AIC | \n",
       "|---|---|---|\n",
       "| <none> | NA        |        NA |  5599.398 | 109.3208  | \n",
       "| X1 |  1        | 5169.4543 | 10768.852 | 119.0927  | \n",
       "| X3 |  1        |  833.1911 |  6432.589 | 109.8177  | \n",
       "\n",
       "\n"
      ],
      "text/plain": [
       "       Df Sum of Sq RSS       AIC     \n",
       "<none> NA        NA  5599.398 109.3208\n",
       "X1      1 5169.4543 10768.852 119.0927\n",
       "X3      1  833.1911  6432.589 109.8177"
      ]
     },
     "metadata": {},
     "output_type": "display_data"
    },
    {
     "data": {
      "text/plain": [
       "\n",
       "Call:\n",
       "lm(formula = Y ~ X1, data = import)\n",
       "\n",
       "Residuals:\n",
       "    Min      1Q  Median      3Q     Max \n",
       "-31.486  -8.282  -1.674   5.623  59.337 \n",
       "\n",
       "Coefficients:\n",
       "            Estimate Std. Error t value Pr(>|t|)    \n",
       "(Intercept)  59.2590     7.4200   7.986 5.67e-07 ***\n",
       "X1            1.8434     0.4789   3.849  0.00142 ** \n",
       "---\n",
       "Signif. codes:  0 '***' 0.001 '**' 0.01 '*' 0.05 '.' 0.1 ' ' 1\n",
       "\n",
       "Residual standard error: 20.05 on 16 degrees of freedom\n",
       "Multiple R-squared:  0.4808,\tAdjusted R-squared:  0.4484 \n",
       "F-statistic: 14.82 on 1 and 16 DF,  p-value: 0.001417\n"
      ]
     },
     "metadata": {},
     "output_type": "display_data"
    },
    {
     "data": {
      "text/plain": [
       "\n",
       "\tOne Sample t-test\n",
       "\n",
       "data:  x\n",
       "t = -3.4783, df = 19, p-value = 0.001258\n",
       "alternative hypothesis: true mean is less than 225\n",
       "95 percent confidence interval:\n",
       "     -Inf 208.4806\n",
       "sample estimates:\n",
       "mean of x \n",
       "   192.15 \n"
      ]
     },
     "metadata": {},
     "output_type": "display_data"
    },
    {
     "data": {
      "text/plain": [
       "            Df Sum Sq Mean Sq F value Pr(>F)  \n",
       "AA           2  6.437   3.218   4.284 0.0275 *\n",
       "Residuals   21 15.776   0.751                 \n",
       "---\n",
       "Signif. codes:  0 '***' 0.001 '**' 0.01 '*' 0.05 '.' 0.1 ' ' 1"
      ]
     },
     "metadata": {},
     "output_type": "display_data"
    },
    {
     "data": {
      "text/plain": [
       "  Tukey multiple comparisons of means\n",
       "    95% family-wise confidence level\n",
       "\n",
       "Fit: aov(formula = x ~ AA, data = lamp)\n",
       "\n",
       "$AA\n",
       "       diff        lwr     upr     p adj\n",
       "2-1 0.95875 -0.1335799 2.05108 0.0922432\n",
       "3-1 1.19875  0.1064201 2.29108 0.0298641\n",
       "3-2 0.24000 -0.8523299 1.33233 0.8456673\n"
      ]
     },
     "metadata": {},
     "output_type": "display_data"
    },
    {
     "data": {
      "text/plain": [
       "            Df Sum Sq Mean Sq F value   Pr(>F)    \n",
       "a            4 1480.8   370.2   40.88 6.74e-08 ***\n",
       "Residuals   15  135.8     9.1                     \n",
       "---\n",
       "Signif. codes:  0 '***' 0.001 '**' 0.01 '*' 0.05 '.' 0.1 ' ' 1"
      ]
     },
     "metadata": {},
     "output_type": "display_data"
    },
    {
     "ename": "ERROR",
     "evalue": "Error in `contrasts<-`(`*tmp*`, value = contr.funs[1 + isOF[nn]]): contrasts can be applied only to factors with 2 or more levels\n",
     "output_type": "error",
     "traceback": [
      "Error in `contrasts<-`(`*tmp*`, value = contr.funs[1 + isOF[nn]]): contrasts can be applied only to factors with 2 or more levels\nTraceback:\n",
      "1. aov(x ~ A * B, data = x)",
      "2. eval(lmcall, parent.frame())",
      "3. eval(lmcall, parent.frame())",
      "4. stats::lm(formula = x ~ A * B, data = x, singular.ok = TRUE)",
      "5. model.matrix(mt, mf, contrasts)",
      "6. model.matrix.default(mt, mf, contrasts)",
      "7. `contrasts<-`(`*tmp*`, value = contr.funs[1 + isOF[nn]])",
      "8. stop(\"contrasts can be applied only to factors with 2 or more levels\")"
     ]
    },
    {
     "data": {
      "image/png": "[encoded data removed]",
      "text/plain": [
       "plot without title"
      ]
     },
     "metadata": {},
     "output_type": "display_data"
    }
   ],
   "source": [
    "x=c (5.1 ,3.5 ,7.1 ,6.2 ,8.8 ,7.8 ,4.5 ,5.6 ,8.0 ,6.4)\n",
    "y=c(1907 ,1287 ,2700 ,2373 ,3260 ,3000 ,1947 ,2273 ,3113 ,2493)\n",
    "X=7\n",
    "plot(x,y)\n",
    "hg=lm(y~x)\n",
    "summary(hg)\n",
    "pred=data.frame(X=7)\n",
    "hg.pred=predict(hg,newdata = pred, interval = \"prediction\" , level=0.95)\n",
    "\n",
    "\n",
    "#下面的内容是关于多元回归分析的\n",
    "import <- data.frame( X1=c\n",
    "                    (0.4 ,0.4 ,3.1 ,0.6 ,4.7 ,1.7 ,9.4 ,10.1 ,11.6 ,12.6 ,10.9 ,23.1 ,23.1 ,21.6 ,23.1 ,1.9 ,26.8 ,29.9)\n",
    "                    , X2=c(52 ,23 ,19 ,34 ,24 ,65 ,44 ,31 ,29 ,58 ,37 ,46 ,50 ,44 ,56 ,36 ,58 ,51) ,\n",
    "                    X3=c\n",
    "                    (158 ,163 ,37 ,157 ,59 ,123 ,46 ,117 ,173 ,112 ,111 ,114 ,134 ,73 ,168 ,143 ,202 ,124)\n",
    "                    , Y= c(64 ,60 ,71 ,61 ,54 ,77 ,81 ,93 ,93 ,51 ,76 ,96 ,77 ,93 ,95 ,54 ,168 ,99)\n",
    ")\n",
    "lm.sol <- lm(Y~X1+X2+X3, data=import)\n",
    "summary(lm.sol)\n",
    "#下面进行逐步回归\n",
    "lm.step <- step(lm.sol )\n",
    "#从程序的运行结果中可以看到，用全部变量作回归方程时，AIC值为111.27.\n",
    "#如果去掉变量X2,则相应的AIC值为109.32，如果去掉变量X3则相应的AIC值为111.77;\n",
    "#如果去掉变量X1则相应的AIC值为119.66，软件去掉X2项，进入下一轮运算\n",
    "\n",
    "#此时回归系数检验的平已经有了显著提升，但X3项系数仍然不显著，利用drop1()函数计算\n",
    "drop1(lm.step)\n",
    "#此时的结果说明，去掉X3项的时候，AIC值和残差平方值上升都是最小的，因此去掉X3项再次做线性回归\n",
    "lm.opt <- lm(Y~X1,data = import)\n",
    "summary(lm.opt)\n",
    "#此时的P值为最低，故其最优的回归方程Y=59.259+1.8434*X1\n",
    "\n",
    "#方差分析\n",
    "x <- c(220 ,188 ,162 ,230 ,145 ,160 ,238 ,188 ,247 ,113 ,\n",
    "     126 ,245 ,164 ,231 ,256 ,183 ,190 ,158 ,224 ,175)\n",
    "t.test (x,mu=225,alternative='less')\n",
    "#p值为0.001258故拒绝原假设，认为其有关\n",
    "\n",
    "#方差分析,三组两两进行方差分析\n",
    "data6 <- data.frame(c(2.79,2.69,3.11,3.47,1.77,2.44,2.83,2.52),c(3.83,3.15,4.70,3.97,2.03,2.87,3.65,5.09),c(5.41,3.47,4.92,4.07,2.18,3.13,3.77,4.26))\n",
    "colnames(data6) = c('A','B','C')\n",
    "A=data6$A\n",
    "B=data6$B\n",
    "C=data6$C\n",
    "AA <- factor(c(rep(1 ,8) ,rep(2 ,8) ,rep(3 ,8) ) )\n",
    "x <- c(A,B,C)\n",
    "lamp <- data.frame(x,AA)\n",
    "lamp.aov <- aov(x~AA,data=lamp)\n",
    "summary.aov(lamp.aov)\n",
    "TukeyHSD(lamp.aov)\n",
    "\n",
    "#方差分析\n",
    "x=c(29.6 ,24.3 ,28.5 ,32.0 ,27.3 ,32.6 ,30.8 ,34.8 ,5.8 ,6.2 ,11.0 ,8.3 ,21.6 ,17.4 ,18.3 ,19.0 ,29.2 ,32.8 ,25.0 ,24.2)\n",
    "a=factor(c(rep(1 ,4) ,rep(2 ,4) ,rep(3 ,4) ,rep(4 ,4) ,rep(5 ,4) ) )\n",
    "fc=data.frame(x,a)\n",
    "fc.aov=aov(x~a,data=fc)\n",
    "summary(fc.aov)\n",
    "\n",
    "#方差分析\n",
    "x = data.frame(x = c(23.1,57.6,10.5,23.6,11.9,54.6,21,20.3,22.7,53.2,9.7,19.6,13.8,47.1,13.6,23.6,22.5,53.7,10.8,21.1,13.7,39.2,13.7,16.3,22.6,53.1,8.3,21.6,13.3,37,14.8,14.8),A = gl(4,1,32),B = gl(1,8,32))#有4个需要进行方差分析，每个只有一个值，共有32值#每个只有一个值，\n",
    "aov_x = aov(x~A*B,data = x)\n",
    "A*B\n",
    "\n",
    "\n",
    "x = c(23.1,57.6,10.5,23.6,11.9,54.6,21,20.3,22.7,53.2,9.7,19.6,13.8,47.1,13.6,23.6,22.5,53.7,10.8,21.1,13.7,39.2,13.7,16.3,22.6,53.1,8.3,21.6,13.3,37,14.8,14.8)\n",
    "g = gl(4,8)\n",
    "b = gl(8,1,32)\n",
    "friedman.test(x,g,b)\n"
   ]
  },
  {
   "cell_type": "code",
   "execution_count": null,
   "metadata": {
    "collapsed": true
   },
   "outputs": [],
   "source": []
  }
 ],
 "metadata": {
  "kernelspec": {
   "display_name": "R",
   "language": "R",
   "name": "ir"
  },
  "language_info": {
   "codemirror_mode": "r",
   "file_extension": ".r",
   "mimetype": "text/x-r-source",
   "name": "R",
   "pygments_lexer": "r",
   "version": "3.5.1"
  }
 },
 "nbformat": 4,
 "nbformat_minor": 2
}
