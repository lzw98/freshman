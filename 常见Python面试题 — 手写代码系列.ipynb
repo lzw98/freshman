{
 "cells": [
  {
   "cell_type": "markdown",
   "metadata": {},
   "source": [
    "如何反向迭代一个序列"
   ]
  },
  {
   "cell_type": "code",
   "execution_count": 1,
   "metadata": {},
   "outputs": [
    {
     "name": "stdout",
     "output_type": "stream",
     "text": [
      "4\n",
      "3\n",
      "2\n",
      "1\n"
     ]
    }
   ],
   "source": [
    "#如果是一个list,最快的方法使用reverse\n",
    "tempList = [1,2,3,4]\n",
    "tempList.reverse()\n",
    "for x in tempList:\n",
    "    print (x)"
   ]
  },
  {
   "cell_type": "code",
   "execution_count": 2,
   "metadata": {},
   "outputs": [
    {
     "name": "stdout",
     "output_type": "stream",
     "text": [
      "4\n",
      "3\n",
      "2\n",
      "1\n"
     ]
    }
   ],
   "source": [
    "#如果不是list,需要手动重排\n",
    "templist = (1,2,3,4)\n",
    "for i in range(len(templist)-1,-1,-1):\n",
    "    print (templist[i])"
   ]
  },
  {
   "cell_type": "markdown",
   "metadata": {},
   "source": [
    "如何查询和替换一个文本中的字符串"
   ]
  },
  {
   "cell_type": "code",
   "execution_count": 3,
   "metadata": {},
   "outputs": [
    {
     "name": "stdout",
     "output_type": "stream",
     "text": [
      "hello python hello python are python ok\n"
     ]
    }
   ],
   "source": [
    "#最简单的方法使用replace()\n",
    "tempstr = \"hello you hello python are you ok\"\n",
    "print (tempstr.replace(\"you\",\"python\"))"
   ]
  },
  {
   "cell_type": "code",
   "execution_count": 4,
   "metadata": {},
   "outputs": [
    {
     "name": "stdout",
     "output_type": "stream",
     "text": [
      "Bye you Bye python are you ok\n"
     ]
    }
   ],
   "source": [
    "#还可以使用正则,有个sub()\n",
    "tempstr = \"hello you hello python are you ok\"\n",
    "import re\n",
    "rex = r'(hello|Use)'\n",
    "print (re.sub(rex,\"Bye\",tempstr))"
   ]
  },
  {
   "cell_type": "code",
   "execution_count": null,
   "metadata": {},
   "outputs": [],
   "source": []
  },
  {
   "cell_type": "code",
   "execution_count": 5,
   "metadata": {},
   "outputs": [
    {
     "name": "stdout",
     "output_type": "stream",
     "text": [
      "1 1\n",
      "2 2\n",
      "80986856 80986856\n"
     ]
    }
   ],
   "source": [
    "#方法一:可以使用__new__方法\n",
    "#在__new__方法中把类实例绑定到类变量_instance上，如果cls._instance为None表示该类还没有实例化过，实例化该类并返回。如果cls_instance不为None表示该类已实例化，直接返回cls_instance\n",
    "class SingleTon(object):\n",
    "    def __new__(cls,*args,**kwargs):\n",
    "        if not hasattr(cls,'_instance'):\n",
    "            cls._instance = object.__new__(cls,*args,**kwargs)\n",
    "        return cls._instance\n",
    "class TestClass(SingleTon):\n",
    "    a = 1\n",
    "\n",
    "test1 = TestClass()\n",
    "test2 = TestClass()\n",
    "print (test1.a,test2.a)\n",
    "test1.a=2\n",
    "print (test1.a,test2.a)\n",
    "\n",
    "print (id(test1),id(test2))"
   ]
  },
  {
   "cell_type": "markdown",
   "metadata": {},
   "source": [
    "### 给列表中的字典排序"
   ]
  },
  {
   "cell_type": "code",
   "execution_count": 7,
   "metadata": {},
   "outputs": [
    {
     "name": "stdout",
     "output_type": "stream",
     "text": [
      "[{'name': 'b', 'age': 30}, {'name': 'c', 'age': 25}, {'name': 'a', 'age': 20}]\n"
     ]
    }
   ],
   "source": [
    "alist = [{\"name\":\"a\",\"age\":20},{\"name\":\"b\",\"age\":30},{\"name\":\"c\",\"age\":25}]\n",
    "alist.sort(key=lambda x:-x.get(\"age\"))\n",
    "print (alist)"
   ]
  },
  {
   "cell_type": "markdown",
   "metadata": {},
   "source": [
    "合并两个列表排除重复元素"
   ]
  },
  {
   "cell_type": "code",
   "execution_count": 9,
   "metadata": {},
   "outputs": [
    {
     "name": "stdout",
     "output_type": "stream",
     "text": [
      "{'a', 'd', 'f', 'x', 'y', 'e', 'b', 'c', 'z'}\n"
     ]
    },
    {
     "data": {
      "text/plain": [
       "{'a', 'b', 'c', 'd', 'e', 'f', 'x', 'y', 'z'}"
      ]
     },
     "execution_count": 9,
     "metadata": {},
     "output_type": "execute_result"
    }
   ],
   "source": [
    "alist = ['a','b','c','d','e','f']\n",
    "blist = ['x','y','z','e','f']\n",
    "def merge_list(*args):\n",
    "    s = set()\n",
    "    for i in args:\n",
    "        s = s.union(i)\n",
    "    print(s)\n",
    "    return s\n",
    "\n",
    "merge_list(alist,blist)"
   ]
  },
  {
   "cell_type": "code",
   "execution_count": 13,
   "metadata": {},
   "outputs": [
    {
     "name": "stdout",
     "output_type": "stream",
     "text": [
      "[0, 1, 2, 3, 4, 5, 6, 7, 8, 9]\n",
      "[9, 3, 0, 2, 8, 1, 7, 4, 6, 5]\n"
     ]
    }
   ],
   "source": [
    "from random import shuffle\n",
    "alist = [i for i in range(10)]\n",
    "print(alist)\n",
    "shuffle(alist)\n",
    "print(alist)"
   ]
  },
  {
   "cell_type": "markdown",
   "metadata": {},
   "source": [
    "简单的实现一个栈结构 stack"
   ]
  },
  {
   "cell_type": "code",
   "execution_count": 14,
   "metadata": {},
   "outputs": [
    {
     "name": "stdout",
     "output_type": "stream",
     "text": [
      "[1, 2, 3]\n",
      "[1, 2]\n"
     ]
    }
   ],
   "source": [
    "class Stack(object):\n",
    "    def __init__(self):\n",
    "        self.value = []\n",
    "\n",
    "    def push(self,x):\n",
    "        self.value.append(x)\n",
    "\n",
    "    def pop(self):\n",
    "        self.value.pop()\n",
    "\n",
    "stack = Stack()\n",
    "\n",
    "stack.push(1)\n",
    "stack.push(2)\n",
    "stack.push(3)\n",
    "print(stack.value)\n",
    "stack.pop()\n",
    "print(stack.value)"
   ]
  },
  {
   "cell_type": "markdown",
   "metadata": {},
   "source": [
    "把字符串”k1:1|k2:2|k3:3”处理成 python 字典的形式:{k1:1,k2:2,k3:3}"
   ]
  },
  {
   "cell_type": "code",
   "execution_count": 15,
   "metadata": {},
   "outputs": [
    {
     "name": "stdout",
     "output_type": "stream",
     "text": [
      "{'k1': 1, 'k2': 2, 'k3': 3}\n"
     ]
    }
   ],
   "source": [
    "def string_to_dict(string):\n",
    "    d = {}\n",
    "    for kv in string.split(\"|\"):\n",
    "        k,v = kv.split(\":\")\n",
    "        if v.isdigit():\n",
    "            v=int(v)\n",
    "        d[k]=v\n",
    "    return d\n",
    "\n",
    "print(string_to_dict(\"k1:1|k2:2|k3:3\"))"
   ]
  },
  {
   "cell_type": "markdown",
   "metadata": {},
   "source": [
    ".判断输入的值是否在矩阵之中(杨氏矩阵)"
   ]
  },
  {
   "cell_type": "code",
   "execution_count": 16,
   "metadata": {},
   "outputs": [
    {
     "name": "stdout",
     "output_type": "stream",
     "text": [
      "True\n"
     ]
    }
   ],
   "source": [
    "#处理数组矩阵\n",
    "arr = [[1,4,7,10,15],[2,5,8,12,19],[3,6,9,16,22],[10,13,14,17,24],[18,21,23,26,30]]\n",
    "def get_num(num,data=None):\n",
    "    while data:\n",
    "        if num > data[0][-1]:\n",
    "            del data[0]\n",
    "        elif num<data[0][-1]:\n",
    "            data = list(zip(*data))\n",
    "            del data[-1]\n",
    "            data = list(zip(*data))\n",
    "        else:\n",
    "            return True\n",
    "            data.clear()\n",
    "    return False\n",
    "print (get_num(18,arr))"
   ]
  },
  {
   "cell_type": "markdown",
   "metadata": {},
   "source": [
    "不处理数组矩阵 \n",
    "使用 step-wise 线性搜索"
   ]
  },
  {
   "cell_type": "code",
   "execution_count": null,
   "metadata": {},
   "outputs": [],
   "source": [
    "def getvalue(data,value):\n",
    "    m = len(data)-1\n",
    "    n = len(data[0])-1\n",
    "    r = 0\n",
    "    c = n\n",
    "    while c>=0 and r<=m:\n",
    "        if value == data[r][c]:\n",
    "            return True\n",
    "        elif value>data[r][c]:\n",
    "            r = r+1\n",
    "        else:\n",
    "            c = c-1\n",
    "    return False"
   ]
  },
  {
   "cell_type": "markdown",
   "metadata": {},
   "source": [
    "获取最大公约数(欧几里得算法)"
   ]
  },
  {
   "cell_type": "code",
   "execution_count": 17,
   "metadata": {},
   "outputs": [],
   "source": [
    "a= 25\n",
    "b=15\n",
    "\n",
    "def max_common(a,b):\n",
    "    while b:\n",
    "        a,b=b,a%b\n",
    "    return a"
   ]
  },
  {
   "cell_type": "markdown",
   "metadata": {},
   "source": [
    "获取中位数"
   ]
  },
  {
   "cell_type": "code",
   "execution_count": 18,
   "metadata": {},
   "outputs": [],
   "source": [
    "#计算中位数\n",
    "def mediannum(num):\n",
    "    listnum = [num[i] for i in range(len(num))]\n",
    "    listnum.sort()\n",
    "    lnum = len(num)\n",
    "    if lnum % 2 == 1:\n",
    "        i = int((lnum + 1) / 2)-1\n",
    "        return listnum[i]\n",
    "    else:\n",
    "        i = int(lnum / 2)-1\n",
    "        return (listnum[i] + listnum[i + 1]) / 2"
   ]
  },
  {
   "cell_type": "code",
   "execution_count": null,
   "metadata": {},
   "outputs": [],
   "source": []
  }
 ],
 "metadata": {
  "kernelspec": {
   "display_name": "Python 3",
   "language": "python",
   "name": "python3"
  },
  "language_info": {
   "codemirror_mode": {
    "name": "ipython",
    "version": 3
   },
   "file_extension": ".py",
   "mimetype": "text/x-python",
   "name": "python",
   "nbconvert_exporter": "python",
   "pygments_lexer": "ipython3",
   "version": "3.6.5"
  }
 },
 "nbformat": 4,
 "nbformat_minor": 2
}
